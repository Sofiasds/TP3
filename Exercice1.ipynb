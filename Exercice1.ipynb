{
 "cells": [
  {
   "cell_type": "code",
   "execution_count": 1,
   "id": "1e4fd6b6",
   "metadata": {},
   "outputs": [],
   "source": [
    "#Question 1\n",
    "#Qu'est ce qu'un service web?"
   ]
  },
  {
   "cell_type": "code",
   "execution_count": 2,
   "id": "51b1d9c1",
   "metadata": {},
   "outputs": [],
   "source": [
    "#Un service web est un médium standardisé permettant la communication entre les applications clients et serveur sur le web"
   ]
  },
  {
   "cell_type": "code",
   "execution_count": 3,
   "id": "e83d2b00",
   "metadata": {},
   "outputs": [],
   "source": [
    "#Question 2\n",
    "#Une API REST, qu'est-ce que c'est ?"
   ]
  },
  {
   "cell_type": "code",
   "execution_count": 4,
   "id": "2c5bea88",
   "metadata": {},
   "outputs": [],
   "source": [
    "#Un API REST est une interface de programmtion d'application qui respecte la syntaxe d'architecture REST et permet d'avoir une intéraction avec les services web RESTful"
   ]
  },
  {
   "cell_type": "code",
   "execution_count": 5,
   "id": "91591b36",
   "metadata": {},
   "outputs": [],
   "source": [
    "#Question 3\n",
    "#Qu'est ce qu'une FastAPI?"
   ]
  },
  {
   "cell_type": "code",
   "execution_count": null,
   "id": "b940a055",
   "metadata": {},
   "outputs": [],
   "source": [
    "#FastAPI est un framework moderne qui vous permet de créer des API"
   ]
  }
 ],
 "metadata": {
  "kernelspec": {
   "display_name": "Python 3 (ipykernel)",
   "language": "python",
   "name": "python3"
  },
  "language_info": {
   "codemirror_mode": {
    "name": "ipython",
    "version": 3
   },
   "file_extension": ".py",
   "mimetype": "text/x-python",
   "name": "python",
   "nbconvert_exporter": "python",
   "pygments_lexer": "ipython3",
   "version": "3.9.7"
  }
 },
 "nbformat": 4,
 "nbformat_minor": 5
}
